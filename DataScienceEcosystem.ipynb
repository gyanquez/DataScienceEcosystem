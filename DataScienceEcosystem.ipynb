{
 "cells": [
  {
   "cell_type": "markdown",
   "id": "1c0913d6-a637-4407-87a8-8104b847b86a",
   "metadata": {
    "tags": []
   },
   "source": [
    "# Data Science Tools and Ecosytem"
   ]
  },
  {
   "cell_type": "markdown",
   "id": "fbde135d-3d17-4e67-bea6-b8591c08aa8f",
   "metadata": {
    "tags": []
   },
   "source": [
    "## In this notebook, Data Science Tools and Ecosystem are summarized."
   ]
  },
  {
   "cell_type": "markdown",
   "id": "a297f249-7506-4da4-885d-a3b22ad98bb6",
   "metadata": {},
   "source": [
    "**Objectives**\n",
    "- List popular languages for Data Science\n",
    "- List commonly used libraries used by Data Scientists\n",
    "- List Data Science tools"
   ]
  },
  {
   "cell_type": "markdown",
   "id": "bcac3fb8-80aa-480e-b935-14e602bbc2aa",
   "metadata": {
    "tags": []
   },
   "source": [
    "### Some of the popular languages that Data Scientists use are:\n",
    "1. Python\n",
    "2. R\n",
    "3. SQL\n",
    "4. Java"
   ]
  },
  {
   "cell_type": "markdown",
   "id": "1da0a23a-3289-463f-bbb0-56b3a19b7fda",
   "metadata": {
    "tags": []
   },
   "source": [
    "### Some of the commonly used libraries used by Data Scientists include:\n",
    "1. Pandas\n",
    "2. TensorFlow\n",
    "3. Keras\n",
    "4. Scikit-learn"
   ]
  },
  {
   "cell_type": "markdown",
   "id": "e793ff60-c13d-4657-9781-19ae71204e1c",
   "metadata": {
    "tags": []
   },
   "source": [
    "| Data Science Tools |\n",
    "|:--------:|\n",
    "|  Jupyter Notebook   |\n",
    "|  RStudio   |\n",
    "|  TensorFlow   |"
   ]
  },
  {
   "cell_type": "markdown",
   "id": "f6b45ef3-2892-4e1a-9840-3352f98c240f",
   "metadata": {
    "tags": []
   },
   "source": [
    "### Below are a few examples of evaluating arithmetic expressions in Python"
   ]
  },
  {
   "cell_type": "code",
   "execution_count": 5,
   "id": "1c7ea14f-c9e3-45f5-ade2-83897bf2122e",
   "metadata": {
    "tags": []
   },
   "outputs": [
    {
     "data": {
      "text/plain": [
       "17"
      ]
     },
     "execution_count": 5,
     "metadata": {},
     "output_type": "execute_result"
    }
   ],
   "source": [
    "(3*4)+5\n",
    "# This a simple arithmetic expression to mutiply then add integers"
   ]
  },
  {
   "cell_type": "code",
   "execution_count": 6,
   "id": "d6f3d553-58f6-4775-92b3-d2c84f2c364f",
   "metadata": {
    "tags": []
   },
   "outputs": [
    {
     "data": {
      "text/plain": [
       "3.3333333333333335"
      ]
     },
     "execution_count": 6,
     "metadata": {},
     "output_type": "execute_result"
    }
   ],
   "source": [
    "200/60\n",
    "# This will convert 200 minutes to hours by diving by 60"
   ]
  },
  {
   "cell_type": "markdown",
   "id": "ed2990b6-f058-4936-88a9-8adf7d3be781",
   "metadata": {},
   "source": [
    "## Author\n",
    "Gustavo Yánquez"
   ]
  },
  {
   "cell_type": "code",
   "execution_count": null,
   "id": "2559c85a-dfae-4dd4-b814-e2dd2b9c6c94",
   "metadata": {},
   "outputs": [],
   "source": []
  }
 ],
 "metadata": {
  "kernelspec": {
   "display_name": "Python 3 (ipykernel)",
   "language": "python",
   "name": "python3"
  },
  "language_info": {
   "codemirror_mode": {
    "name": "ipython",
    "version": 3
   },
   "file_extension": ".py",
   "mimetype": "text/x-python",
   "name": "python",
   "nbconvert_exporter": "python",
   "pygments_lexer": "ipython3",
   "version": "3.11.5"
  }
 },
 "nbformat": 4,
 "nbformat_minor": 5
}
